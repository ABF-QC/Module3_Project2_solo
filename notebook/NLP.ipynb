{
 "cells": [
  {
   "cell_type": "markdown",
   "id": "015ec7f5-d2d9-4308-8528-b348962a4252",
   "metadata": {},
   "source": [
    "---\n",
    "# NLP\n",
    "---\n",
    "\n",
    "In this notebook, we wil be using a NLP model (BERT- Sentiment) to convert the comments into a rating from 1 to 10, since a lot (25%) of the ratings are missing. \n",
    "\n",
    "We also tried various NLP model to summarize a text and another to retain the most import keywords from a text. Due to lack of time this portion was discarded for the rest of the project.\n",
    "\n",
    "The resulting Sentiment ratings with the original datset will be written to the [Output File](../data/games_comments_sentiment_summarized.csv) \n",
    "\n",
    "---\n"
   ]
  },
  {
   "cell_type": "markdown",
   "id": "9dc1228f-6215-4a42-a5f4-5bef31c2726a",
   "metadata": {},
   "source": [
    "### Importing necessary library"
   ]
  },
  {
   "cell_type": "code",
   "execution_count": 1,
   "id": "24431647-cd5b-4c84-ac48-ae57b0b5807a",
   "metadata": {
    "execution": {
     "iopub.execute_input": "2025-03-27T15:59:38.169451Z",
     "iopub.status.busy": "2025-03-27T15:59:38.163894Z",
     "iopub.status.idle": "2025-03-27T16:00:11.566928Z",
     "shell.execute_reply": "2025-03-27T16:00:11.564503Z",
     "shell.execute_reply.started": "2025-03-27T15:59:38.169393Z"
    }
   },
   "outputs": [
    {
     "name": "stderr",
     "output_type": "stream",
     "text": [
      "2025-03-27 11:59:59.861735: E external/local_xla/xla/stream_executor/cuda/cuda_fft.cc:467] Unable to register cuFFT factory: Attempting to register factory for plugin cuFFT when one has already been registered\n",
      "WARNING: All log messages before absl::InitializeLog() is called are written to STDERR\n",
      "E0000 00:00:1743091200.307194 1873299 cuda_dnn.cc:8579] Unable to register cuDNN factory: Attempting to register factory for plugin cuDNN when one has already been registered\n",
      "E0000 00:00:1743091200.355162 1873299 cuda_blas.cc:1407] Unable to register cuBLAS factory: Attempting to register factory for plugin cuBLAS when one has already been registered\n",
      "W0000 00:00:1743091201.197262 1873299 computation_placer.cc:177] computation placer already registered. Please check linkage and avoid linking the same target more than once.\n",
      "W0000 00:00:1743091201.197369 1873299 computation_placer.cc:177] computation placer already registered. Please check linkage and avoid linking the same target more than once.\n",
      "W0000 00:00:1743091201.197376 1873299 computation_placer.cc:177] computation placer already registered. Please check linkage and avoid linking the same target more than once.\n",
      "W0000 00:00:1743091201.197381 1873299 computation_placer.cc:177] computation placer already registered. Please check linkage and avoid linking the same target more than once.\n"
     ]
    }
   ],
   "source": [
    "import pandas as pd\n",
    "import numpy as np\n",
    "\n",
    "import requests\n",
    "import pandas as pd\n",
    "import json\n",
    "from transformers import AutoTokenizer, AutoModelForSequenceClassification, pipeline\n",
    "import torch\n",
    "import seaborn as sns\n",
    "import matplotlib.pyplot as plt\n",
    "from sklearn.model_selection import train_test_split\n",
    "from sklearn.metrics import classification_report, accuracy_score\n",
    "\n",
    "from summarizer import Summarizer,TransformerSummarizer\n",
    "from keybert import KeyBERT\n",
    "from sentence_transformers import SentenceTransformer\n",
    "#from summarizer import Summarizer,TransformerSummarizer\n",
    "#from transformers import pipeline"
   ]
  },
  {
   "cell_type": "markdown",
   "id": "01a14b38-5051-4f1d-9c90-bcfeb37680cf",
   "metadata": {
    "execution": {
     "iopub.execute_input": "2025-03-01T22:00:33.436550Z",
     "iopub.status.busy": "2025-03-01T22:00:33.435980Z",
     "iopub.status.idle": "2025-03-01T22:00:33.448115Z",
     "shell.execute_reply": "2025-03-01T22:00:33.446039Z",
     "shell.execute_reply.started": "2025-03-01T22:00:33.436497Z"
    }
   },
   "source": [
    "---\n",
    "\n",
    "<center>\n",
    "    \n",
    "## Preparing data\n",
    "\n",
    "</center>\n",
    "\n",
    "---"
   ]
  },
  {
   "cell_type": "markdown",
   "id": "f9e48fb6-b16e-4cff-8d4f-ad61fdb11f17",
   "metadata": {},
   "source": [
    "### Read data file"
   ]
  },
  {
   "cell_type": "code",
   "execution_count": 2,
   "id": "c267b26c-94a9-47ed-bb06-f8abcd57adec",
   "metadata": {
    "execution": {
     "iopub.execute_input": "2025-03-27T16:00:11.569660Z",
     "iopub.status.busy": "2025-03-27T16:00:11.568870Z",
     "iopub.status.idle": "2025-03-27T16:00:11.709024Z",
     "shell.execute_reply": "2025-03-27T16:00:11.707399Z",
     "shell.execute_reply.started": "2025-03-27T16:00:11.569623Z"
    }
   },
   "outputs": [
    {
     "data": {
      "text/html": [
       "<div>\n",
       "<style scoped>\n",
       "    .dataframe tbody tr th:only-of-type {\n",
       "        vertical-align: middle;\n",
       "    }\n",
       "\n",
       "    .dataframe tbody tr th {\n",
       "        vertical-align: top;\n",
       "    }\n",
       "\n",
       "    .dataframe thead th {\n",
       "        text-align: right;\n",
       "    }\n",
       "</style>\n",
       "<table border=\"1\" class=\"dataframe\">\n",
       "  <thead>\n",
       "    <tr style=\"text-align: right;\">\n",
       "      <th></th>\n",
       "      <th>username</th>\n",
       "      <th>rating</th>\n",
       "      <th>comment</th>\n",
       "      <th>gamename</th>\n",
       "      <th>mechanics</th>\n",
       "      <th>min_players</th>\n",
       "      <th>max_players</th>\n",
       "      <th>minplaytime</th>\n",
       "      <th>maxplaytime</th>\n",
       "      <th>age</th>\n",
       "      <th>ratings_avg</th>\n",
       "      <th>count_wanting</th>\n",
       "      <th>count_wishing</th>\n",
       "      <th>description</th>\n",
       "      <th>categories</th>\n",
       "      <th>lang</th>\n",
       "    </tr>\n",
       "  </thead>\n",
       "  <tbody>\n",
       "    <tr>\n",
       "      <th>0</th>\n",
       "      <td>causticforever</td>\n",
       "      <td>NaN</td>\n",
       "      <td>Played prototype- will be an enjoyable way to ...</td>\n",
       "      <td>Sanctuary</td>\n",
       "      <td>Action Queue,Hand Management,Hexagon Grid,Open...</td>\n",
       "      <td>1</td>\n",
       "      <td>5</td>\n",
       "      <td>40</td>\n",
       "      <td>100</td>\n",
       "      <td>12</td>\n",
       "      <td>7.00000</td>\n",
       "      <td>55</td>\n",
       "      <td>569</td>\n",
       "      <td>In Sanctuary, you will plan and design a moder...</td>\n",
       "      <td>Animals,Environmental,Territory Building</td>\n",
       "      <td>en</td>\n",
       "    </tr>\n",
       "    <tr>\n",
       "      <th>1</th>\n",
       "      <td>Corwin007</td>\n",
       "      <td>NaN</td>\n",
       "      <td>UPCOMING\\n\\nArk Nova lite?</td>\n",
       "      <td>Sanctuary</td>\n",
       "      <td>Action Queue,Hand Management,Hexagon Grid,Open...</td>\n",
       "      <td>1</td>\n",
       "      <td>5</td>\n",
       "      <td>40</td>\n",
       "      <td>100</td>\n",
       "      <td>12</td>\n",
       "      <td>7.00000</td>\n",
       "      <td>55</td>\n",
       "      <td>569</td>\n",
       "      <td>In Sanctuary, you will plan and design a moder...</td>\n",
       "      <td>Animals,Environmental,Territory Building</td>\n",
       "      <td>en</td>\n",
       "    </tr>\n",
       "    <tr>\n",
       "      <th>2</th>\n",
       "      <td>IronTarkles</td>\n",
       "      <td>NaN</td>\n",
       "      <td>New game from ark nova designer</td>\n",
       "      <td>Sanctuary</td>\n",
       "      <td>Action Queue,Hand Management,Hexagon Grid,Open...</td>\n",
       "      <td>1</td>\n",
       "      <td>5</td>\n",
       "      <td>40</td>\n",
       "      <td>100</td>\n",
       "      <td>12</td>\n",
       "      <td>7.00000</td>\n",
       "      <td>55</td>\n",
       "      <td>569</td>\n",
       "      <td>In Sanctuary, you will plan and design a moder...</td>\n",
       "      <td>Animals,Environmental,Territory Building</td>\n",
       "      <td>en</td>\n",
       "    </tr>\n",
       "    <tr>\n",
       "      <th>3</th>\n",
       "      <td>MarkyX</td>\n",
       "      <td>NaN</td>\n",
       "      <td>I'm very interested in this one. I like the co...</td>\n",
       "      <td>Sanctuary</td>\n",
       "      <td>Action Queue,Hand Management,Hexagon Grid,Open...</td>\n",
       "      <td>1</td>\n",
       "      <td>5</td>\n",
       "      <td>40</td>\n",
       "      <td>100</td>\n",
       "      <td>12</td>\n",
       "      <td>7.00000</td>\n",
       "      <td>55</td>\n",
       "      <td>569</td>\n",
       "      <td>In Sanctuary, you will plan and design a moder...</td>\n",
       "      <td>Animals,Environmental,Territory Building</td>\n",
       "      <td>en</td>\n",
       "    </tr>\n",
       "    <tr>\n",
       "      <th>4</th>\n",
       "      <td>mikamikomi</td>\n",
       "      <td>1.0</td>\n",
       "      <td>3 artist yet still use stock photos? oh yeah</td>\n",
       "      <td>Sanctuary</td>\n",
       "      <td>Action Queue,Hand Management,Hexagon Grid,Open...</td>\n",
       "      <td>1</td>\n",
       "      <td>5</td>\n",
       "      <td>40</td>\n",
       "      <td>100</td>\n",
       "      <td>12</td>\n",
       "      <td>7.00000</td>\n",
       "      <td>55</td>\n",
       "      <td>569</td>\n",
       "      <td>In Sanctuary, you will plan and design a moder...</td>\n",
       "      <td>Animals,Environmental,Territory Building</td>\n",
       "      <td>en</td>\n",
       "    </tr>\n",
       "    <tr>\n",
       "      <th>...</th>\n",
       "      <td>...</td>\n",
       "      <td>...</td>\n",
       "      <td>...</td>\n",
       "      <td>...</td>\n",
       "      <td>...</td>\n",
       "      <td>...</td>\n",
       "      <td>...</td>\n",
       "      <td>...</td>\n",
       "      <td>...</td>\n",
       "      <td>...</td>\n",
       "      <td>...</td>\n",
       "      <td>...</td>\n",
       "      <td>...</td>\n",
       "      <td>...</td>\n",
       "      <td>...</td>\n",
       "      <td>...</td>\n",
       "    </tr>\n",
       "    <tr>\n",
       "      <th>4193</th>\n",
       "      <td>chicagometh</td>\n",
       "      <td>4.8</td>\n",
       "      <td>4...'Not so good, but could play again' by BGG...</td>\n",
       "      <td>Civolution</td>\n",
       "      <td>Area Movement,Dice Rolling,Events,Hand Managem...</td>\n",
       "      <td>1</td>\n",
       "      <td>4</td>\n",
       "      <td>90</td>\n",
       "      <td>180</td>\n",
       "      <td>14</td>\n",
       "      <td>8.21282</td>\n",
       "      <td>580</td>\n",
       "      <td>4089</td>\n",
       "      <td>Hello, student beings! The cosmic faculty of t...</td>\n",
       "      <td>Civilization,Dice,Economic,Exploration,Science...</td>\n",
       "      <td>en</td>\n",
       "    </tr>\n",
       "    <tr>\n",
       "      <th>4194</th>\n",
       "      <td>Chris Coyote</td>\n",
       "      <td>NaN</td>\n",
       "      <td>Birthday 2025</td>\n",
       "      <td>Civolution</td>\n",
       "      <td>Area Movement,Dice Rolling,Events,Hand Managem...</td>\n",
       "      <td>1</td>\n",
       "      <td>4</td>\n",
       "      <td>90</td>\n",
       "      <td>180</td>\n",
       "      <td>14</td>\n",
       "      <td>8.21282</td>\n",
       "      <td>580</td>\n",
       "      <td>4089</td>\n",
       "      <td>Hello, student beings! The cosmic faculty of t...</td>\n",
       "      <td>Civilization,Dice,Economic,Exploration,Science...</td>\n",
       "      <td>en</td>\n",
       "    </tr>\n",
       "    <tr>\n",
       "      <th>4195</th>\n",
       "      <td>Chris_P85</td>\n",
       "      <td>9.0</td>\n",
       "      <td>Played a half Game at Spiel 24</td>\n",
       "      <td>Civolution</td>\n",
       "      <td>Area Movement,Dice Rolling,Events,Hand Managem...</td>\n",
       "      <td>1</td>\n",
       "      <td>4</td>\n",
       "      <td>90</td>\n",
       "      <td>180</td>\n",
       "      <td>14</td>\n",
       "      <td>8.21282</td>\n",
       "      <td>580</td>\n",
       "      <td>4089</td>\n",
       "      <td>Hello, student beings! The cosmic faculty of t...</td>\n",
       "      <td>Civilization,Dice,Economic,Exploration,Science...</td>\n",
       "      <td>en</td>\n",
       "    </tr>\n",
       "    <tr>\n",
       "      <th>4196</th>\n",
       "      <td>Chutch1035</td>\n",
       "      <td>5.0</td>\n",
       "      <td>I love Feld games and I love Civ games. When I...</td>\n",
       "      <td>Civolution</td>\n",
       "      <td>Area Movement,Dice Rolling,Events,Hand Managem...</td>\n",
       "      <td>1</td>\n",
       "      <td>4</td>\n",
       "      <td>90</td>\n",
       "      <td>180</td>\n",
       "      <td>14</td>\n",
       "      <td>8.21282</td>\n",
       "      <td>580</td>\n",
       "      <td>4089</td>\n",
       "      <td>Hello, student beings! The cosmic faculty of t...</td>\n",
       "      <td>Civilization,Dice,Economic,Exploration,Science...</td>\n",
       "      <td>en</td>\n",
       "    </tr>\n",
       "    <tr>\n",
       "      <th>4197</th>\n",
       "      <td>Citadel</td>\n",
       "      <td>NaN</td>\n",
       "      <td>Nice Civ-lite minus the combat element. Tons o...</td>\n",
       "      <td>Civolution</td>\n",
       "      <td>Area Movement,Dice Rolling,Events,Hand Managem...</td>\n",
       "      <td>1</td>\n",
       "      <td>4</td>\n",
       "      <td>90</td>\n",
       "      <td>180</td>\n",
       "      <td>14</td>\n",
       "      <td>8.21282</td>\n",
       "      <td>580</td>\n",
       "      <td>4089</td>\n",
       "      <td>Hello, student beings! The cosmic faculty of t...</td>\n",
       "      <td>Civilization,Dice,Economic,Exploration,Science...</td>\n",
       "      <td>en</td>\n",
       "    </tr>\n",
       "  </tbody>\n",
       "</table>\n",
       "<p>4198 rows × 16 columns</p>\n",
       "</div>"
      ],
      "text/plain": [
       "            username  rating  \\\n",
       "0     causticforever     NaN   \n",
       "1          Corwin007     NaN   \n",
       "2        IronTarkles     NaN   \n",
       "3             MarkyX     NaN   \n",
       "4         mikamikomi     1.0   \n",
       "...              ...     ...   \n",
       "4193     chicagometh     4.8   \n",
       "4194    Chris Coyote     NaN   \n",
       "4195       Chris_P85     9.0   \n",
       "4196      Chutch1035     5.0   \n",
       "4197         Citadel     NaN   \n",
       "\n",
       "                                                comment    gamename  \\\n",
       "0     Played prototype- will be an enjoyable way to ...   Sanctuary   \n",
       "1                            UPCOMING\\n\\nArk Nova lite?   Sanctuary   \n",
       "2                       New game from ark nova designer   Sanctuary   \n",
       "3     I'm very interested in this one. I like the co...   Sanctuary   \n",
       "4          3 artist yet still use stock photos? oh yeah   Sanctuary   \n",
       "...                                                 ...         ...   \n",
       "4193  4...'Not so good, but could play again' by BGG...  Civolution   \n",
       "4194                                      Birthday 2025  Civolution   \n",
       "4195                     Played a half Game at Spiel 24  Civolution   \n",
       "4196  I love Feld games and I love Civ games. When I...  Civolution   \n",
       "4197  Nice Civ-lite minus the combat element. Tons o...  Civolution   \n",
       "\n",
       "                                              mechanics  min_players  \\\n",
       "0     Action Queue,Hand Management,Hexagon Grid,Open...            1   \n",
       "1     Action Queue,Hand Management,Hexagon Grid,Open...            1   \n",
       "2     Action Queue,Hand Management,Hexagon Grid,Open...            1   \n",
       "3     Action Queue,Hand Management,Hexagon Grid,Open...            1   \n",
       "4     Action Queue,Hand Management,Hexagon Grid,Open...            1   \n",
       "...                                                 ...          ...   \n",
       "4193  Area Movement,Dice Rolling,Events,Hand Managem...            1   \n",
       "4194  Area Movement,Dice Rolling,Events,Hand Managem...            1   \n",
       "4195  Area Movement,Dice Rolling,Events,Hand Managem...            1   \n",
       "4196  Area Movement,Dice Rolling,Events,Hand Managem...            1   \n",
       "4197  Area Movement,Dice Rolling,Events,Hand Managem...            1   \n",
       "\n",
       "      max_players  minplaytime  maxplaytime  age  ratings_avg  count_wanting  \\\n",
       "0               5           40          100   12      7.00000             55   \n",
       "1               5           40          100   12      7.00000             55   \n",
       "2               5           40          100   12      7.00000             55   \n",
       "3               5           40          100   12      7.00000             55   \n",
       "4               5           40          100   12      7.00000             55   \n",
       "...           ...          ...          ...  ...          ...            ...   \n",
       "4193            4           90          180   14      8.21282            580   \n",
       "4194            4           90          180   14      8.21282            580   \n",
       "4195            4           90          180   14      8.21282            580   \n",
       "4196            4           90          180   14      8.21282            580   \n",
       "4197            4           90          180   14      8.21282            580   \n",
       "\n",
       "      count_wishing                                        description  \\\n",
       "0               569  In Sanctuary, you will plan and design a moder...   \n",
       "1               569  In Sanctuary, you will plan and design a moder...   \n",
       "2               569  In Sanctuary, you will plan and design a moder...   \n",
       "3               569  In Sanctuary, you will plan and design a moder...   \n",
       "4               569  In Sanctuary, you will plan and design a moder...   \n",
       "...             ...                                                ...   \n",
       "4193           4089  Hello, student beings! The cosmic faculty of t...   \n",
       "4194           4089  Hello, student beings! The cosmic faculty of t...   \n",
       "4195           4089  Hello, student beings! The cosmic faculty of t...   \n",
       "4196           4089  Hello, student beings! The cosmic faculty of t...   \n",
       "4197           4089  Hello, student beings! The cosmic faculty of t...   \n",
       "\n",
       "                                             categories lang  \n",
       "0              Animals,Environmental,Territory Building   en  \n",
       "1              Animals,Environmental,Territory Building   en  \n",
       "2              Animals,Environmental,Territory Building   en  \n",
       "3              Animals,Environmental,Territory Building   en  \n",
       "4              Animals,Environmental,Territory Building   en  \n",
       "...                                                 ...  ...  \n",
       "4193  Civilization,Dice,Economic,Exploration,Science...   en  \n",
       "4194  Civilization,Dice,Economic,Exploration,Science...   en  \n",
       "4195  Civilization,Dice,Economic,Exploration,Science...   en  \n",
       "4196  Civilization,Dice,Economic,Exploration,Science...   en  \n",
       "4197  Civilization,Dice,Economic,Exploration,Science...   en  \n",
       "\n",
       "[4198 rows x 16 columns]"
      ]
     },
     "execution_count": 2,
     "metadata": {},
     "output_type": "execute_result"
    }
   ],
   "source": [
    "df = pd.read_csv('../data/games_comments_clean.csv')\n",
    "df"
   ]
  },
  {
   "cell_type": "markdown",
   "id": "012c89b8-8800-4317-8600-1a0b883d127f",
   "metadata": {
    "execution": {
     "iopub.execute_input": "2025-03-01T22:00:33.436550Z",
     "iopub.status.busy": "2025-03-01T22:00:33.435980Z",
     "iopub.status.idle": "2025-03-01T22:00:33.448115Z",
     "shell.execute_reply": "2025-03-01T22:00:33.446039Z",
     "shell.execute_reply.started": "2025-03-01T22:00:33.436497Z"
    }
   },
   "source": [
    "---\n",
    "\n",
    "<center>\n",
    "    \n",
    "## NLP - Sentiment\n",
    "\n",
    "</center>\n",
    "\n",
    "---"
   ]
  },
  {
   "cell_type": "markdown",
   "id": "2758dae1-eacc-4faa-abb7-fb76cd595a1c",
   "metadata": {},
   "source": [
    "### Create an instance of the model"
   ]
  },
  {
   "cell_type": "code",
   "execution_count": 3,
   "id": "ca8224c0-15f1-4b3e-b724-6ee6b030717a",
   "metadata": {
    "execution": {
     "iopub.execute_input": "2025-03-27T16:00:11.710927Z",
     "iopub.status.busy": "2025-03-27T16:00:11.710326Z",
     "iopub.status.idle": "2025-03-27T16:00:12.791757Z",
     "shell.execute_reply": "2025-03-27T16:00:12.790743Z",
     "shell.execute_reply.started": "2025-03-27T16:00:11.710896Z"
    }
   },
   "outputs": [],
   "source": [
    "tokenizer = AutoTokenizer.from_pretrained('nlptown/bert-base-multilingual-uncased-sentiment')\n",
    "\n",
    "model = AutoModelForSequenceClassification.from_pretrained('nlptown/bert-base-multilingual-uncased-sentiment')"
   ]
  },
  {
   "cell_type": "markdown",
   "id": "b55a7103-966f-4536-a103-80546ca531f2",
   "metadata": {},
   "source": [
    "### Encode the reviews and use model to predict sentiment for each review"
   ]
  },
  {
   "cell_type": "code",
   "execution_count": 4,
   "id": "6d0f7dac-42cf-4bd3-a2e1-89cbd3a945fa",
   "metadata": {
    "execution": {
     "iopub.execute_input": "2025-03-27T16:00:12.793211Z",
     "iopub.status.busy": "2025-03-27T16:00:12.792726Z",
     "iopub.status.idle": "2025-03-27T16:00:12.799667Z",
     "shell.execute_reply": "2025-03-27T16:00:12.798351Z",
     "shell.execute_reply.started": "2025-03-27T16:00:12.793166Z"
    }
   },
   "outputs": [],
   "source": [
    "# Creating function to encode each review and return the sentiment score from 1 to 5 \n",
    "def sentiment_score(review):\n",
    "    tokens = tokenizer.encode(review, return_tensors='pt')\n",
    "    result = model(tokens)\n",
    "    rating_1_5 = torch.argmax(result.logits).item() + 1\n",
    "    rating_1_10 = np.round(2 * rating_1_5, decimals=1)\n",
    "    return rating_1_10"
   ]
  },
  {
   "cell_type": "code",
   "execution_count": 5,
   "id": "c8c7b73b-897f-40d7-bebd-599558005f24",
   "metadata": {
    "execution": {
     "iopub.execute_input": "2025-03-27T16:00:12.801924Z",
     "iopub.status.busy": "2025-03-27T16:00:12.801046Z",
     "iopub.status.idle": "2025-03-27T16:21:49.485433Z",
     "shell.execute_reply": "2025-03-27T16:21:49.483618Z",
     "shell.execute_reply.started": "2025-03-27T16:00:12.801890Z"
    }
   },
   "outputs": [
    {
     "data": {
      "text/html": [
       "<div>\n",
       "<style scoped>\n",
       "    .dataframe tbody tr th:only-of-type {\n",
       "        vertical-align: middle;\n",
       "    }\n",
       "\n",
       "    .dataframe tbody tr th {\n",
       "        vertical-align: top;\n",
       "    }\n",
       "\n",
       "    .dataframe thead th {\n",
       "        text-align: right;\n",
       "    }\n",
       "</style>\n",
       "<table border=\"1\" class=\"dataframe\">\n",
       "  <thead>\n",
       "    <tr style=\"text-align: right;\">\n",
       "      <th></th>\n",
       "      <th>username</th>\n",
       "      <th>rating</th>\n",
       "      <th>comment</th>\n",
       "      <th>gamename</th>\n",
       "      <th>mechanics</th>\n",
       "      <th>min_players</th>\n",
       "      <th>max_players</th>\n",
       "      <th>minplaytime</th>\n",
       "      <th>maxplaytime</th>\n",
       "      <th>age</th>\n",
       "      <th>ratings_avg</th>\n",
       "      <th>count_wanting</th>\n",
       "      <th>count_wishing</th>\n",
       "      <th>description</th>\n",
       "      <th>categories</th>\n",
       "      <th>lang</th>\n",
       "      <th>Sentiment</th>\n",
       "    </tr>\n",
       "  </thead>\n",
       "  <tbody>\n",
       "    <tr>\n",
       "      <th>0</th>\n",
       "      <td>causticforever</td>\n",
       "      <td>NaN</td>\n",
       "      <td>Played prototype- will be an enjoyable way to ...</td>\n",
       "      <td>Sanctuary</td>\n",
       "      <td>Action Queue,Hand Management,Hexagon Grid,Open...</td>\n",
       "      <td>1</td>\n",
       "      <td>5</td>\n",
       "      <td>40</td>\n",
       "      <td>100</td>\n",
       "      <td>12</td>\n",
       "      <td>7.00000</td>\n",
       "      <td>55</td>\n",
       "      <td>569</td>\n",
       "      <td>In Sanctuary, you will plan and design a moder...</td>\n",
       "      <td>Animals,Environmental,Territory Building</td>\n",
       "      <td>en</td>\n",
       "      <td>8</td>\n",
       "    </tr>\n",
       "    <tr>\n",
       "      <th>1</th>\n",
       "      <td>Corwin007</td>\n",
       "      <td>NaN</td>\n",
       "      <td>UPCOMING\\n\\nArk Nova lite?</td>\n",
       "      <td>Sanctuary</td>\n",
       "      <td>Action Queue,Hand Management,Hexagon Grid,Open...</td>\n",
       "      <td>1</td>\n",
       "      <td>5</td>\n",
       "      <td>40</td>\n",
       "      <td>100</td>\n",
       "      <td>12</td>\n",
       "      <td>7.00000</td>\n",
       "      <td>55</td>\n",
       "      <td>569</td>\n",
       "      <td>In Sanctuary, you will plan and design a moder...</td>\n",
       "      <td>Animals,Environmental,Territory Building</td>\n",
       "      <td>en</td>\n",
       "      <td>6</td>\n",
       "    </tr>\n",
       "    <tr>\n",
       "      <th>2</th>\n",
       "      <td>IronTarkles</td>\n",
       "      <td>NaN</td>\n",
       "      <td>New game from ark nova designer</td>\n",
       "      <td>Sanctuary</td>\n",
       "      <td>Action Queue,Hand Management,Hexagon Grid,Open...</td>\n",
       "      <td>1</td>\n",
       "      <td>5</td>\n",
       "      <td>40</td>\n",
       "      <td>100</td>\n",
       "      <td>12</td>\n",
       "      <td>7.00000</td>\n",
       "      <td>55</td>\n",
       "      <td>569</td>\n",
       "      <td>In Sanctuary, you will plan and design a moder...</td>\n",
       "      <td>Animals,Environmental,Territory Building</td>\n",
       "      <td>en</td>\n",
       "      <td>10</td>\n",
       "    </tr>\n",
       "    <tr>\n",
       "      <th>3</th>\n",
       "      <td>MarkyX</td>\n",
       "      <td>NaN</td>\n",
       "      <td>I'm very interested in this one. I like the co...</td>\n",
       "      <td>Sanctuary</td>\n",
       "      <td>Action Queue,Hand Management,Hexagon Grid,Open...</td>\n",
       "      <td>1</td>\n",
       "      <td>5</td>\n",
       "      <td>40</td>\n",
       "      <td>100</td>\n",
       "      <td>12</td>\n",
       "      <td>7.00000</td>\n",
       "      <td>55</td>\n",
       "      <td>569</td>\n",
       "      <td>In Sanctuary, you will plan and design a moder...</td>\n",
       "      <td>Animals,Environmental,Territory Building</td>\n",
       "      <td>en</td>\n",
       "      <td>8</td>\n",
       "    </tr>\n",
       "    <tr>\n",
       "      <th>4</th>\n",
       "      <td>mikamikomi</td>\n",
       "      <td>1.0</td>\n",
       "      <td>3 artist yet still use stock photos? oh yeah</td>\n",
       "      <td>Sanctuary</td>\n",
       "      <td>Action Queue,Hand Management,Hexagon Grid,Open...</td>\n",
       "      <td>1</td>\n",
       "      <td>5</td>\n",
       "      <td>40</td>\n",
       "      <td>100</td>\n",
       "      <td>12</td>\n",
       "      <td>7.00000</td>\n",
       "      <td>55</td>\n",
       "      <td>569</td>\n",
       "      <td>In Sanctuary, you will plan and design a moder...</td>\n",
       "      <td>Animals,Environmental,Territory Building</td>\n",
       "      <td>en</td>\n",
       "      <td>6</td>\n",
       "    </tr>\n",
       "    <tr>\n",
       "      <th>...</th>\n",
       "      <td>...</td>\n",
       "      <td>...</td>\n",
       "      <td>...</td>\n",
       "      <td>...</td>\n",
       "      <td>...</td>\n",
       "      <td>...</td>\n",
       "      <td>...</td>\n",
       "      <td>...</td>\n",
       "      <td>...</td>\n",
       "      <td>...</td>\n",
       "      <td>...</td>\n",
       "      <td>...</td>\n",
       "      <td>...</td>\n",
       "      <td>...</td>\n",
       "      <td>...</td>\n",
       "      <td>...</td>\n",
       "      <td>...</td>\n",
       "    </tr>\n",
       "    <tr>\n",
       "      <th>4193</th>\n",
       "      <td>chicagometh</td>\n",
       "      <td>4.8</td>\n",
       "      <td>4...'Not so good, but could play again' by BGG...</td>\n",
       "      <td>Civolution</td>\n",
       "      <td>Area Movement,Dice Rolling,Events,Hand Managem...</td>\n",
       "      <td>1</td>\n",
       "      <td>4</td>\n",
       "      <td>90</td>\n",
       "      <td>180</td>\n",
       "      <td>14</td>\n",
       "      <td>8.21282</td>\n",
       "      <td>580</td>\n",
       "      <td>4089</td>\n",
       "      <td>Hello, student beings! The cosmic faculty of t...</td>\n",
       "      <td>Civilization,Dice,Economic,Exploration,Science...</td>\n",
       "      <td>en</td>\n",
       "      <td>8</td>\n",
       "    </tr>\n",
       "    <tr>\n",
       "      <th>4194</th>\n",
       "      <td>Chris Coyote</td>\n",
       "      <td>NaN</td>\n",
       "      <td>Birthday 2025</td>\n",
       "      <td>Civolution</td>\n",
       "      <td>Area Movement,Dice Rolling,Events,Hand Managem...</td>\n",
       "      <td>1</td>\n",
       "      <td>4</td>\n",
       "      <td>90</td>\n",
       "      <td>180</td>\n",
       "      <td>14</td>\n",
       "      <td>8.21282</td>\n",
       "      <td>580</td>\n",
       "      <td>4089</td>\n",
       "      <td>Hello, student beings! The cosmic faculty of t...</td>\n",
       "      <td>Civilization,Dice,Economic,Exploration,Science...</td>\n",
       "      <td>en</td>\n",
       "      <td>10</td>\n",
       "    </tr>\n",
       "    <tr>\n",
       "      <th>4195</th>\n",
       "      <td>Chris_P85</td>\n",
       "      <td>9.0</td>\n",
       "      <td>Played a half Game at Spiel 24</td>\n",
       "      <td>Civolution</td>\n",
       "      <td>Area Movement,Dice Rolling,Events,Hand Managem...</td>\n",
       "      <td>1</td>\n",
       "      <td>4</td>\n",
       "      <td>90</td>\n",
       "      <td>180</td>\n",
       "      <td>14</td>\n",
       "      <td>8.21282</td>\n",
       "      <td>580</td>\n",
       "      <td>4089</td>\n",
       "      <td>Hello, student beings! The cosmic faculty of t...</td>\n",
       "      <td>Civilization,Dice,Economic,Exploration,Science...</td>\n",
       "      <td>en</td>\n",
       "      <td>2</td>\n",
       "    </tr>\n",
       "    <tr>\n",
       "      <th>4196</th>\n",
       "      <td>Chutch1035</td>\n",
       "      <td>5.0</td>\n",
       "      <td>I love Feld games and I love Civ games. When I...</td>\n",
       "      <td>Civolution</td>\n",
       "      <td>Area Movement,Dice Rolling,Events,Hand Managem...</td>\n",
       "      <td>1</td>\n",
       "      <td>4</td>\n",
       "      <td>90</td>\n",
       "      <td>180</td>\n",
       "      <td>14</td>\n",
       "      <td>8.21282</td>\n",
       "      <td>580</td>\n",
       "      <td>4089</td>\n",
       "      <td>Hello, student beings! The cosmic faculty of t...</td>\n",
       "      <td>Civilization,Dice,Economic,Exploration,Science...</td>\n",
       "      <td>en</td>\n",
       "      <td>8</td>\n",
       "    </tr>\n",
       "    <tr>\n",
       "      <th>4197</th>\n",
       "      <td>Citadel</td>\n",
       "      <td>NaN</td>\n",
       "      <td>Nice Civ-lite minus the combat element. Tons o...</td>\n",
       "      <td>Civolution</td>\n",
       "      <td>Area Movement,Dice Rolling,Events,Hand Managem...</td>\n",
       "      <td>1</td>\n",
       "      <td>4</td>\n",
       "      <td>90</td>\n",
       "      <td>180</td>\n",
       "      <td>14</td>\n",
       "      <td>8.21282</td>\n",
       "      <td>580</td>\n",
       "      <td>4089</td>\n",
       "      <td>Hello, student beings! The cosmic faculty of t...</td>\n",
       "      <td>Civilization,Dice,Economic,Exploration,Science...</td>\n",
       "      <td>en</td>\n",
       "      <td>8</td>\n",
       "    </tr>\n",
       "  </tbody>\n",
       "</table>\n",
       "<p>4198 rows × 17 columns</p>\n",
       "</div>"
      ],
      "text/plain": [
       "            username  rating  \\\n",
       "0     causticforever     NaN   \n",
       "1          Corwin007     NaN   \n",
       "2        IronTarkles     NaN   \n",
       "3             MarkyX     NaN   \n",
       "4         mikamikomi     1.0   \n",
       "...              ...     ...   \n",
       "4193     chicagometh     4.8   \n",
       "4194    Chris Coyote     NaN   \n",
       "4195       Chris_P85     9.0   \n",
       "4196      Chutch1035     5.0   \n",
       "4197         Citadel     NaN   \n",
       "\n",
       "                                                comment    gamename  \\\n",
       "0     Played prototype- will be an enjoyable way to ...   Sanctuary   \n",
       "1                            UPCOMING\\n\\nArk Nova lite?   Sanctuary   \n",
       "2                       New game from ark nova designer   Sanctuary   \n",
       "3     I'm very interested in this one. I like the co...   Sanctuary   \n",
       "4          3 artist yet still use stock photos? oh yeah   Sanctuary   \n",
       "...                                                 ...         ...   \n",
       "4193  4...'Not so good, but could play again' by BGG...  Civolution   \n",
       "4194                                      Birthday 2025  Civolution   \n",
       "4195                     Played a half Game at Spiel 24  Civolution   \n",
       "4196  I love Feld games and I love Civ games. When I...  Civolution   \n",
       "4197  Nice Civ-lite minus the combat element. Tons o...  Civolution   \n",
       "\n",
       "                                              mechanics  min_players  \\\n",
       "0     Action Queue,Hand Management,Hexagon Grid,Open...            1   \n",
       "1     Action Queue,Hand Management,Hexagon Grid,Open...            1   \n",
       "2     Action Queue,Hand Management,Hexagon Grid,Open...            1   \n",
       "3     Action Queue,Hand Management,Hexagon Grid,Open...            1   \n",
       "4     Action Queue,Hand Management,Hexagon Grid,Open...            1   \n",
       "...                                                 ...          ...   \n",
       "4193  Area Movement,Dice Rolling,Events,Hand Managem...            1   \n",
       "4194  Area Movement,Dice Rolling,Events,Hand Managem...            1   \n",
       "4195  Area Movement,Dice Rolling,Events,Hand Managem...            1   \n",
       "4196  Area Movement,Dice Rolling,Events,Hand Managem...            1   \n",
       "4197  Area Movement,Dice Rolling,Events,Hand Managem...            1   \n",
       "\n",
       "      max_players  minplaytime  maxplaytime  age  ratings_avg  count_wanting  \\\n",
       "0               5           40          100   12      7.00000             55   \n",
       "1               5           40          100   12      7.00000             55   \n",
       "2               5           40          100   12      7.00000             55   \n",
       "3               5           40          100   12      7.00000             55   \n",
       "4               5           40          100   12      7.00000             55   \n",
       "...           ...          ...          ...  ...          ...            ...   \n",
       "4193            4           90          180   14      8.21282            580   \n",
       "4194            4           90          180   14      8.21282            580   \n",
       "4195            4           90          180   14      8.21282            580   \n",
       "4196            4           90          180   14      8.21282            580   \n",
       "4197            4           90          180   14      8.21282            580   \n",
       "\n",
       "      count_wishing                                        description  \\\n",
       "0               569  In Sanctuary, you will plan and design a moder...   \n",
       "1               569  In Sanctuary, you will plan and design a moder...   \n",
       "2               569  In Sanctuary, you will plan and design a moder...   \n",
       "3               569  In Sanctuary, you will plan and design a moder...   \n",
       "4               569  In Sanctuary, you will plan and design a moder...   \n",
       "...             ...                                                ...   \n",
       "4193           4089  Hello, student beings! The cosmic faculty of t...   \n",
       "4194           4089  Hello, student beings! The cosmic faculty of t...   \n",
       "4195           4089  Hello, student beings! The cosmic faculty of t...   \n",
       "4196           4089  Hello, student beings! The cosmic faculty of t...   \n",
       "4197           4089  Hello, student beings! The cosmic faculty of t...   \n",
       "\n",
       "                                             categories lang  Sentiment  \n",
       "0              Animals,Environmental,Territory Building   en          8  \n",
       "1              Animals,Environmental,Territory Building   en          6  \n",
       "2              Animals,Environmental,Territory Building   en         10  \n",
       "3              Animals,Environmental,Territory Building   en          8  \n",
       "4              Animals,Environmental,Territory Building   en          6  \n",
       "...                                                 ...  ...        ...  \n",
       "4193  Civilization,Dice,Economic,Exploration,Science...   en          8  \n",
       "4194  Civilization,Dice,Economic,Exploration,Science...   en         10  \n",
       "4195  Civilization,Dice,Economic,Exploration,Science...   en          2  \n",
       "4196  Civilization,Dice,Economic,Exploration,Science...   en          8  \n",
       "4197  Civilization,Dice,Economic,Exploration,Science...   en          8  \n",
       "\n",
       "[4198 rows x 17 columns]"
      ]
     },
     "execution_count": 5,
     "metadata": {},
     "output_type": "execute_result"
    }
   ],
   "source": [
    "# Add Sentiment column that contains the sentiment prediction of the model based on the review\n",
    "df['Sentiment'] = df['comment'].apply(lambda x: sentiment_score(x[:512]))\n",
    "df"
   ]
  },
  {
   "cell_type": "markdown",
   "id": "93627c3e-aca4-4e07-9847-b44688671f79",
   "metadata": {
    "execution": {
     "iopub.execute_input": "2025-03-01T22:00:33.436550Z",
     "iopub.status.busy": "2025-03-01T22:00:33.435980Z",
     "iopub.status.idle": "2025-03-01T22:00:33.448115Z",
     "shell.execute_reply": "2025-03-01T22:00:33.446039Z",
     "shell.execute_reply.started": "2025-03-01T22:00:33.436497Z"
    }
   },
   "source": [
    "---\n",
    "\n",
    "<center>\n",
    "    \n",
    "## NLP - Summarization\n",
    "\n",
    "</center>\n",
    "\n",
    "---"
   ]
  },
  {
   "cell_type": "markdown",
   "id": "ab33fc03-1413-4468-ae56-ba4c2c9c1f3e",
   "metadata": {},
   "source": [
    "**BERT**"
   ]
  },
  {
   "cell_type": "markdown",
   "id": "c1943ea0-b59f-4d04-a0c0-53b1c950f00c",
   "metadata": {
    "execution": {
     "iopub.execute_input": "2025-03-26T21:30:23.414224Z",
     "iopub.status.busy": "2025-03-26T21:30:23.413286Z",
     "iopub.status.idle": "2025-03-26T21:32:22.573666Z",
     "shell.execute_reply": "2025-03-26T21:32:22.571618Z",
     "shell.execute_reply.started": "2025-03-26T21:30:23.414168Z"
    }
   },
   "source": [
    "bert_model = Summarizer()"
   ]
  },
  {
   "cell_type": "markdown",
   "id": "4bb592f7-5c54-4c30-a185-66adb26c63c7",
   "metadata": {
    "execution": {
     "iopub.execute_input": "2025-03-27T02:06:01.510724Z",
     "iopub.status.busy": "2025-03-27T02:06:01.508746Z",
     "iopub.status.idle": "2025-03-27T02:06:01.523541Z",
     "shell.execute_reply": "2025-03-27T02:06:01.520608Z",
     "shell.execute_reply.started": "2025-03-27T02:06:01.510645Z"
    }
   },
   "source": [
    "def comment2summaryBERT(comment):\n",
    "    summary = ''.join(bert_model(comment, max_length=50, min_length=1))\n",
    "    return summary"
   ]
  },
  {
   "cell_type": "markdown",
   "id": "3038f861-0db3-4db3-b25c-107cc833b2c6",
   "metadata": {
    "execution": {
     "iopub.execute_input": "2025-03-27T02:06:04.837760Z",
     "iopub.status.busy": "2025-03-27T02:06:04.837198Z",
     "iopub.status.idle": "2025-03-27T02:33:28.209965Z",
     "shell.execute_reply": "2025-03-27T02:33:28.203494Z",
     "shell.execute_reply.started": "2025-03-27T02:06:04.837716Z"
    }
   },
   "source": [
    " Add Summary column that contains the summary of the comment based on NLP summarization\n",
    "df['Summary_BERT'] = df['comment'].apply(lambda x: comment2summaryBERT(x))\n",
    "df"
   ]
  },
  {
   "cell_type": "markdown",
   "id": "67b1d4b5-fb87-4b44-a2f0-18ab7f8903f6",
   "metadata": {},
   "source": [
    "**KeyBERT**"
   ]
  },
  {
   "cell_type": "markdown",
   "id": "4e02b9c7-05db-40cf-b484-3ef306b48eb6",
   "metadata": {
    "execution": {
     "iopub.execute_input": "2025-03-27T00:18:28.956252Z",
     "iopub.status.busy": "2025-03-27T00:18:28.955628Z",
     "iopub.status.idle": "2025-03-27T00:19:17.623312Z",
     "shell.execute_reply": "2025-03-27T00:19:17.621792Z",
     "shell.execute_reply.started": "2025-03-27T00:18:28.956203Z"
    }
   },
   "source": [
    "model = SentenceTransformer(\"distiluse-base-multilingual-cased-v1\")"
   ]
  },
  {
   "cell_type": "markdown",
   "id": "87c25aa4-ebbb-46eb-aaf9-37eef3b56298",
   "metadata": {
    "execution": {
     "iopub.execute_input": "2025-03-27T00:35:10.432883Z",
     "iopub.status.busy": "2025-03-27T00:35:10.432410Z",
     "iopub.status.idle": "2025-03-27T00:35:10.450820Z",
     "shell.execute_reply": "2025-03-27T00:35:10.444088Z",
     "shell.execute_reply.started": "2025-03-27T00:35:10.432843Z"
    }
   },
   "source": [
    "kw_model = KeyBERT(model)"
   ]
  },
  {
   "cell_type": "markdown",
   "id": "89256110-66de-4867-82e5-019fe92554f4",
   "metadata": {
    "execution": {
     "iopub.execute_input": "2025-03-27T00:35:12.217160Z",
     "iopub.status.busy": "2025-03-27T00:35:12.216467Z",
     "iopub.status.idle": "2025-03-27T00:35:12.242989Z",
     "shell.execute_reply": "2025-03-27T00:35:12.240118Z",
     "shell.execute_reply.started": "2025-03-27T00:35:12.217071Z"
    }
   },
   "source": [
    "def comment2keyBERT(comment):\n",
    "    keywords = kw_model.extract_keywords(\"I'm very interested in this one. Love blabla\", keyphrase_ngram_range=(1, 1), top_n=5)\n",
    "    #summary = ''.join(kw_model(comment, keyphrase_ngram_range=(1, 2), top_n=1))\n",
    "    return [k[0] for k in keywords]"
   ]
  },
  {
   "cell_type": "markdown",
   "id": "80c5c8c8-8d89-4fba-b1f9-d084285d8e42",
   "metadata": {
    "execution": {
     "iopub.execute_input": "2025-03-27T00:35:14.494548Z",
     "iopub.status.busy": "2025-03-27T00:35:14.493959Z"
    }
   },
   "source": [
    "df['KeyBERT'] = df['comment'].apply(lambda x: comment2keyBERT(x))\n",
    "df"
   ]
  },
  {
   "cell_type": "markdown",
   "id": "e8c7f01f-6af0-485c-b78a-6ce857bf7595",
   "metadata": {},
   "source": [
    "**BART**"
   ]
  },
  {
   "cell_type": "markdown",
   "id": "c4183cf1-5b71-478e-a4fd-f77a13b4eabe",
   "metadata": {
    "execution": {
     "iopub.execute_input": "2025-03-26T23:22:14.030558Z",
     "iopub.status.busy": "2025-03-26T23:22:14.028168Z",
     "iopub.status.idle": "2025-03-26T23:24:33.125540Z",
     "shell.execute_reply": "2025-03-26T23:24:33.115599Z",
     "shell.execute_reply.started": "2025-03-26T23:22:14.030501Z"
    }
   },
   "source": [
    "summarizer = pipeline(\"summarization\", model=\"facebook/bart-large-cnn\")"
   ]
  },
  {
   "cell_type": "markdown",
   "id": "f69df11f-f0fd-412a-8d74-a5bf55fd8748",
   "metadata": {
    "execution": {
     "iopub.execute_input": "2025-03-26T23:28:17.849099Z",
     "iopub.status.busy": "2025-03-26T23:28:17.847691Z",
     "iopub.status.idle": "2025-03-26T23:28:17.871307Z",
     "shell.execute_reply": "2025-03-26T23:28:17.869021Z",
     "shell.execute_reply.started": "2025-03-26T23:28:17.848995Z"
    }
   },
   "source": [
    "def comment2summaryBART(comment):\n",
    "    summary = summarizer(comment, max_length=5, min_length=1, do_sample=False)\n",
    "    return summary"
   ]
  },
  {
   "cell_type": "markdown",
   "id": "e2add830-9e30-4018-bd23-c3bee3916a56",
   "metadata": {
    "execution": {
     "iopub.execute_input": "2025-03-26T23:28:27.681335Z",
     "iopub.status.busy": "2025-03-26T23:28:27.680655Z",
     "iopub.status.idle": "2025-03-26T23:57:42.900836Z",
     "shell.execute_reply": "2025-03-26T23:57:42.884912Z",
     "shell.execute_reply.started": "2025-03-26T23:28:27.681284Z"
    }
   },
   "source": [
    "df['Summary_BERT'] = df['comment'].apply(lambda x: comment2summaryBART(x))\n",
    "df"
   ]
  },
  {
   "cell_type": "markdown",
   "id": "a297616e-0be9-4a59-b3b3-8c3404dff5e5",
   "metadata": {
    "execution": {
     "iopub.execute_input": "2025-03-26T23:59:02.683436Z",
     "iopub.status.busy": "2025-03-26T23:59:02.681006Z",
     "iopub.status.idle": "2025-03-26T23:59:02.747124Z",
     "shell.execute_reply": "2025-03-26T23:59:02.746077Z",
     "shell.execute_reply.started": "2025-03-26T23:59:02.683377Z"
    }
   },
   "source": [
    "df"
   ]
  },
  {
   "cell_type": "markdown",
   "id": "57ca1b30-149d-4868-899c-f183b3052e1a",
   "metadata": {
    "execution": {
     "iopub.execute_input": "2025-03-01T22:00:33.436550Z",
     "iopub.status.busy": "2025-03-01T22:00:33.435980Z",
     "iopub.status.idle": "2025-03-01T22:00:33.448115Z",
     "shell.execute_reply": "2025-03-01T22:00:33.446039Z",
     "shell.execute_reply.started": "2025-03-01T22:00:33.436497Z"
    }
   },
   "source": [
    "---\n",
    "\n",
    "<center>\n",
    "    \n",
    "## Saving data to file\n",
    "\n",
    "</center>\n",
    "\n",
    "---"
   ]
  },
  {
   "cell_type": "code",
   "execution_count": 6,
   "id": "8867d8ac-2fae-456f-a07f-7b0411b3d181",
   "metadata": {
    "execution": {
     "iopub.execute_input": "2025-03-27T16:21:49.494423Z",
     "iopub.status.busy": "2025-03-27T16:21:49.493906Z",
     "iopub.status.idle": "2025-03-27T16:21:49.798361Z",
     "shell.execute_reply": "2025-03-27T16:21:49.796889Z",
     "shell.execute_reply.started": "2025-03-27T16:21:49.494382Z"
    }
   },
   "outputs": [],
   "source": [
    "df.to_csv('../data/games_comments_sentiment_summarized.csv', index=False)"
   ]
  },
  {
   "cell_type": "markdown",
   "id": "431f2dc0-fa71-4d33-99f7-a97437fd898c",
   "metadata": {
    "execution": {
     "iopub.execute_input": "2025-03-01T22:00:33.436550Z",
     "iopub.status.busy": "2025-03-01T22:00:33.435980Z",
     "iopub.status.idle": "2025-03-01T22:00:33.448115Z",
     "shell.execute_reply": "2025-03-01T22:00:33.446039Z",
     "shell.execute_reply.started": "2025-03-01T22:00:33.436497Z"
    }
   },
   "source": [
    "---\n",
    "\n",
    "<center>\n",
    "    \n",
    "## Evaluate Sentiment rating vs true rating\n",
    "\n",
    "</center>\n",
    "\n",
    "---"
   ]
  },
  {
   "cell_type": "code",
   "execution_count": 7,
   "id": "5229f344-e77c-4a2a-9c6e-0c27fd7963dc",
   "metadata": {
    "execution": {
     "iopub.execute_input": "2025-03-27T16:21:49.799827Z",
     "iopub.status.busy": "2025-03-27T16:21:49.799398Z",
     "iopub.status.idle": "2025-03-27T16:21:49.828331Z",
     "shell.execute_reply": "2025-03-27T16:21:49.826209Z",
     "shell.execute_reply.started": "2025-03-27T16:21:49.799785Z"
    }
   },
   "outputs": [],
   "source": [
    "tmp = df.dropna(subset=['rating'])"
   ]
  },
  {
   "cell_type": "code",
   "execution_count": 8,
   "id": "dd53e378-4fa3-4b79-8a28-d9f5387ca14e",
   "metadata": {
    "execution": {
     "iopub.execute_input": "2025-03-27T16:21:49.831390Z",
     "iopub.status.busy": "2025-03-27T16:21:49.830089Z",
     "iopub.status.idle": "2025-03-27T16:21:49.849604Z",
     "shell.execute_reply": "2025-03-27T16:21:49.847524Z",
     "shell.execute_reply.started": "2025-03-27T16:21:49.831344Z"
    }
   },
   "outputs": [
    {
     "data": {
      "text/plain": [
       "array([ 1.  ,  9.  ,  8.  ,  8.5 ,  7.  ,  4.  ,  7.5 ,  5.5 ,  7.3 ,\n",
       "       10.  ,  5.  ,  6.  ,  6.5 ,  8.4 ,  8.2 ,  9.2 ,  9.5 ,  9.3 ,\n",
       "        8.8 ,  7.8 ,  3.  ,  6.8 ,  7.2 ,  7.1 ,  6.4 ,  7.9 ,  8.36,\n",
       "        9.6 ,  6.05,  7.7 ,  8.6 ,  9.4 ,  2.  ,  8.7 ,  8.75,  8.3 ,\n",
       "        3.7 ,  6.6 ,  7.75,  6.3 ,  4.5 ,  3.5 ,  9.75,  7.6 ,  2.5 ,\n",
       "        9.21,  7.25,  7.65,  8.79,  4.9 ,  9.9 ,  6.1 ,  8.64,  8.9 ,\n",
       "        8.25,  8.33,  5.9 ,  6.57,  9.45,  9.1 ,  7.4 ,  7.84,  9.25,\n",
       "        4.8 ])"
      ]
     },
     "execution_count": 8,
     "metadata": {},
     "output_type": "execute_result"
    }
   ],
   "source": [
    "tmp['rating'].unique()"
   ]
  },
  {
   "cell_type": "code",
   "execution_count": 9,
   "id": "80062249-874b-47ab-a6cb-ec16e64f7a64",
   "metadata": {
    "execution": {
     "iopub.execute_input": "2025-03-27T16:21:49.852399Z",
     "iopub.status.busy": "2025-03-27T16:21:49.851503Z",
     "iopub.status.idle": "2025-03-27T16:21:49.874936Z",
     "shell.execute_reply": "2025-03-27T16:21:49.874189Z",
     "shell.execute_reply.started": "2025-03-27T16:21:49.852352Z"
    }
   },
   "outputs": [],
   "source": [
    "tmp = tmp[tmp['rating'] != 'rating']"
   ]
  },
  {
   "cell_type": "code",
   "execution_count": 10,
   "id": "e1c8e6a2-7c32-4299-b4d3-f1481278f509",
   "metadata": {
    "execution": {
     "iopub.execute_input": "2025-03-27T16:21:49.876428Z",
     "iopub.status.busy": "2025-03-27T16:21:49.875933Z",
     "iopub.status.idle": "2025-03-27T16:21:49.900215Z",
     "shell.execute_reply": "2025-03-27T16:21:49.899254Z",
     "shell.execute_reply.started": "2025-03-27T16:21:49.876385Z"
    }
   },
   "outputs": [],
   "source": [
    "tmp['rating'] = tmp['rating'].astype(float)"
   ]
  },
  {
   "cell_type": "code",
   "execution_count": 11,
   "id": "2cacb0fb-9c93-4ef9-b4a7-ff1dedba95eb",
   "metadata": {
    "execution": {
     "iopub.execute_input": "2025-03-27T16:21:49.901938Z",
     "iopub.status.busy": "2025-03-27T16:21:49.901387Z",
     "iopub.status.idle": "2025-03-27T16:21:49.924462Z",
     "shell.execute_reply": "2025-03-27T16:21:49.922667Z",
     "shell.execute_reply.started": "2025-03-27T16:21:49.901890Z"
    }
   },
   "outputs": [],
   "source": [
    "tmp['rating'] = round(tmp['rating'] / 2) * 2"
   ]
  },
  {
   "cell_type": "code",
   "execution_count": 12,
   "id": "a395c7ff-021a-4347-82cf-b29f7765e6a7",
   "metadata": {
    "execution": {
     "iopub.execute_input": "2025-03-27T16:21:49.926155Z",
     "iopub.status.busy": "2025-03-27T16:21:49.925757Z",
     "iopub.status.idle": "2025-03-27T16:21:49.947279Z",
     "shell.execute_reply": "2025-03-27T16:21:49.945871Z",
     "shell.execute_reply.started": "2025-03-27T16:21:49.926114Z"
    }
   },
   "outputs": [],
   "source": [
    "tmp['rating'] = tmp['rating'].astype(int)"
   ]
  },
  {
   "cell_type": "code",
   "execution_count": 13,
   "id": "1cd3be1d-5493-4c0f-8d88-350c97ce4a16",
   "metadata": {
    "execution": {
     "iopub.execute_input": "2025-03-27T16:21:49.949512Z",
     "iopub.status.busy": "2025-03-27T16:21:49.948780Z",
     "iopub.status.idle": "2025-03-27T16:21:49.969730Z",
     "shell.execute_reply": "2025-03-27T16:21:49.968442Z",
     "shell.execute_reply.started": "2025-03-27T16:21:49.949464Z"
    }
   },
   "outputs": [
    {
     "data": {
      "text/plain": [
       "array([ 0,  8,  4,  6, 10,  2])"
      ]
     },
     "execution_count": 13,
     "metadata": {},
     "output_type": "execute_result"
    }
   ],
   "source": [
    "tmp['rating'].unique()"
   ]
  },
  {
   "cell_type": "code",
   "execution_count": 14,
   "id": "46b6ef3d-c547-4295-b130-d49426f9e0c8",
   "metadata": {
    "execution": {
     "iopub.execute_input": "2025-03-27T16:21:49.971272Z",
     "iopub.status.busy": "2025-03-27T16:21:49.970852Z",
     "iopub.status.idle": "2025-03-27T16:21:50.009752Z",
     "shell.execute_reply": "2025-03-27T16:21:49.997958Z",
     "shell.execute_reply.started": "2025-03-27T16:21:49.971240Z"
    }
   },
   "outputs": [],
   "source": [
    "tmp['rating'] = tmp['rating'].replace({0:2})"
   ]
  },
  {
   "cell_type": "code",
   "execution_count": 15,
   "id": "5fdee187-c02c-4f76-ab9f-68828382ac44",
   "metadata": {
    "execution": {
     "iopub.execute_input": "2025-03-27T16:21:50.011542Z",
     "iopub.status.busy": "2025-03-27T16:21:50.010985Z",
     "iopub.status.idle": "2025-03-27T16:21:50.024940Z",
     "shell.execute_reply": "2025-03-27T16:21:50.023632Z",
     "shell.execute_reply.started": "2025-03-27T16:21:50.011502Z"
    }
   },
   "outputs": [
    {
     "data": {
      "text/plain": [
       "array([ 2,  8,  4,  6, 10])"
      ]
     },
     "execution_count": 15,
     "metadata": {},
     "output_type": "execute_result"
    }
   ],
   "source": [
    "tmp['rating'].unique()"
   ]
  },
  {
   "cell_type": "code",
   "execution_count": 16,
   "id": "d6c6f6fc-843c-4bc7-91c2-e42a7d5ea14d",
   "metadata": {
    "execution": {
     "iopub.execute_input": "2025-03-27T16:21:50.027429Z",
     "iopub.status.busy": "2025-03-27T16:21:50.026636Z",
     "iopub.status.idle": "2025-03-27T16:21:50.048560Z",
     "shell.execute_reply": "2025-03-27T16:21:50.047219Z",
     "shell.execute_reply.started": "2025-03-27T16:21:50.027377Z"
    }
   },
   "outputs": [
    {
     "data": {
      "text/plain": [
       "array([ 6,  8, 10,  2,  4])"
      ]
     },
     "execution_count": 16,
     "metadata": {},
     "output_type": "execute_result"
    }
   ],
   "source": [
    "tmp['Sentiment'].unique()"
   ]
  },
  {
   "cell_type": "code",
   "execution_count": 17,
   "id": "99d77e70-5478-4474-a58b-982cfc201a45",
   "metadata": {
    "execution": {
     "iopub.execute_input": "2025-03-27T16:21:50.050226Z",
     "iopub.status.busy": "2025-03-27T16:21:50.049808Z",
     "iopub.status.idle": "2025-03-27T16:21:50.116342Z",
     "shell.execute_reply": "2025-03-27T16:21:50.114905Z",
     "shell.execute_reply.started": "2025-03-27T16:21:50.050203Z"
    }
   },
   "outputs": [
    {
     "name": "stdout",
     "output_type": "stream",
     "text": [
      "Classification Report:\n",
      "               precision    recall  f1-score   support\n",
      "\n",
      "           2       0.11      0.48      0.18        44\n",
      "           4       0.47      0.39      0.43       230\n",
      "           6       0.16      0.43      0.23       216\n",
      "           8       0.76      0.40      0.53      1756\n",
      "          10       0.41      0.65      0.50       597\n",
      "\n",
      "    accuracy                           0.46      2843\n",
      "   macro avg       0.38      0.47      0.37      2843\n",
      "weighted avg       0.60      0.46      0.48      2843\n",
      "\n"
     ]
    }
   ],
   "source": [
    "print(\"Classification Report:\\n\", classification_report(tmp['rating'], tmp['Sentiment']))"
   ]
  },
  {
   "cell_type": "markdown",
   "id": "3cb37eba-40b5-4857-95aa-4f4b0a60f736",
   "metadata": {},
   "source": [
    "### Comparing distribution count of Sentiment values vs Ratings "
   ]
  },
  {
   "cell_type": "code",
   "execution_count": 19,
   "id": "5a2c984a-b47b-4425-8bd2-ca59bb886e7a",
   "metadata": {
    "execution": {
     "iopub.execute_input": "2025-03-27T21:20:39.835403Z",
     "iopub.status.busy": "2025-03-27T21:20:39.833203Z",
     "iopub.status.idle": "2025-03-27T21:20:40.619441Z",
     "shell.execute_reply": "2025-03-27T21:20:40.617641Z",
     "shell.execute_reply.started": "2025-03-27T21:20:39.835343Z"
    }
   },
   "outputs": [
    {
     "data": {
      "image/png": "[encoded data removed]",
      "text/plain": [
       "<Figure size 1200x400 with 2 Axes>"
      ]
     },
     "metadata": {},
     "output_type": "display_data"
    }
   ],
   "source": [
    "# Create the figure and adjust its size\n",
    "fig , (ax1, ax2) = plt.subplots(1,2, figsize=(12,4))\n",
    "\n",
    "sns.countplot(ax=ax2, data=tmp,x='rating', order=[2,4,6,8,10])\n",
    "sns.countplot(ax=ax1, data=tmp,x='Sentiment', order=[2,4,6,8,10])\n",
    "\n",
    "# Set the axis labels \n",
    "ax1.set_xlabel('Rating')\n",
    "ax1.set_xlabel('Sentiment')\n",
    "\n",
    "# Set Title\n",
    "ax1.set_title('Count by sentiment category')\n",
    "ax2.set_title('Count by rating category')\n",
    "\n",
    "# Set y-axis limit\n",
    "ax1.set_ylim(0,1800)\n",
    "ax2.set_ylim(0,1800)\n",
    "\n",
    "# Show grid on y axis\n",
    "ax1.grid(axis='y')\n",
    "ax2.grid(axis='y')\n",
    "\n",
    "# Save plot\n",
    "plt.savefig('../graph/SentimentvsRating.png')\n",
    "\n",
    "# Show plot\n",
    "plt.show()"
   ]
  },
  {
   "cell_type": "markdown",
   "id": "a3853cd3-6b11-45c6-b5bb-11cc11015fdc",
   "metadata": {
    "execution": {
     "iopub.execute_input": "2025-03-01T22:00:33.436550Z",
     "iopub.status.busy": "2025-03-01T22:00:33.435980Z",
     "iopub.status.idle": "2025-03-01T22:00:33.448115Z",
     "shell.execute_reply": "2025-03-01T22:00:33.446039Z",
     "shell.execute_reply.started": "2025-03-01T22:00:33.436497Z"
    }
   },
   "source": [
    "---\n",
    "\n",
    "<center>\n",
    "    \n",
    "## Results\n",
    "\n",
    "</center>\n",
    "\n",
    "---"
   ]
  },
  {
   "cell_type": "code",
   "execution_count": null,
   "id": "c65bd858-8779-4573-a316-6fa5ba77e504",
   "metadata": {},
   "outputs": [],
   "source": []
  }
 ],
 "metadata": {
  "kernelspec": {
   "display_name": "graph",
   "language": "python",
   "name": "graph"
  },
  "language_info": {
   "codemirror_mode": {
    "name": "ipython",
    "version": 3
   },
   "file_extension": ".py",
   "mimetype": "text/x-python",
   "name": "python",
   "nbconvert_exporter": "python",
   "pygments_lexer": "ipython3",
   "version": "3.12.7"
  }
 },
 "nbformat": 4,
 "nbformat_minor": 5
}
